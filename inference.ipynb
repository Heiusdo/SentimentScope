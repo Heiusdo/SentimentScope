{
 "cells": [
  {
   "cell_type": "code",
   "execution_count": null,
   "metadata": {},
   "outputs": [
    {
     "name": "stderr",
     "output_type": "stream",
     "text": [
      "d:\\anaconda\\envs\\thesis\\Lib\\site-packages\\tqdm\\auto.py:21: TqdmWarning: IProgress not found. Please update jupyter and ipywidgets. See https://ipywidgets.readthedocs.io/en/stable/user_install.html\n",
      "  from .autonotebook import tqdm as notebook_tqdm\n"
     ]
    },
    {
     "name": "stdout",
     "output_type": "stream",
     "text": [
      "📂 Loading dataset...\n",
      "✅ Dataset loaded! Shape: (100, 2)\n",
      "Sentiment\n",
      "2    83\n",
      "0    17\n",
      "Name: count, dtype: int64\n"
     ]
    }
   ],
   "source": [
    "import pandas as pd\n",
    "import torch\n",
    "from transformers import pipeline\n",
    "from datasets import Dataset\n",
    "from torch.utils.data import DataLoader\n",
    "from tqdm import tqdm\n",
    "\n",
    "# Constants\n",
    "DATA_PATH = r'C:\\Users\\hieud\\Documents\\draft thesis\\thesis\\src\\data\\merged_clean_df.csv'\n",
    "\n",
    "# Load dataset\n",
    "print(\"📂 Loading dataset...\")\n",
    "df = pd.read_csv(DATA_PATH)\n",
    "df.dropna(inplace=True)\n",
    "\n",
    "# Remove neutral class & keep only 100 rows for testing\n",
    "df = df[df['Sentiment'] != 1].head(100)\n",
    "print(f\"✅ Dataset loaded! Shape: {df.shape}\")\n",
    "print(df['Sentiment'].value_counts())  # Show class distribution\n"
   ]
  },
  {
   "cell_type": "code",
   "execution_count": 2,
   "metadata": {},
   "outputs": [
    {
     "name": "stdout",
     "output_type": "stream",
     "text": [
      "🧠 Loading model and tokenizer...\n",
      "🚀 Model is on cuda and ready for inference!\n"
     ]
    }
   ],
   "source": [
    "from transformers import AutoModelForSequenceClassification, AutoTokenizer\n",
    "\n",
    "MODEL_NAME = \"cardiffnlp/twitter-roberta-base-sentiment\"\n",
    "\n",
    "# Load Tokenizer & Model\n",
    "print(\"🧠 Loading model and tokenizer...\")\n",
    "tokenizer = AutoTokenizer.from_pretrained(MODEL_NAME)\n",
    "model = AutoModelForSequenceClassification.from_pretrained(MODEL_NAME)\n",
    "\n",
    "# Move model to GPU (if available)\n",
    "device = torch.device(\"cuda\" if torch.cuda.is_available() else \"cpu\")\n",
    "model.to(device)\n",
    "model.eval()\n",
    "print(f\"🚀 Model is on {device} and ready for inference!\")\n"
   ]
  },
  {
   "cell_type": "code",
   "execution_count": 3,
   "metadata": {},
   "outputs": [
    {
     "name": "stderr",
     "output_type": "stream",
     "text": [
      "Device set to use cuda:0\n"
     ]
    },
    {
     "name": "stdout",
     "output_type": "stream",
     "text": [
      "✅ Sentiment pipeline initialized!\n"
     ]
    }
   ],
   "source": [
    "BATCH_SIZE = 64 \n",
    "\n",
    "# Convert dataset to Hugging Face format\n",
    "dataset = Dataset.from_pandas(df[['Text']])\n",
    "dataloader = DataLoader(dataset, batch_size=BATCH_SIZE, num_workers=0)\n",
    "\n",
    "# Sentiment Analysis Pipeline\n",
    "sentiment_pipeline = pipeline(\"sentiment-analysis\", model=model, tokenizer=tokenizer, device=0)\n",
    "print(\"✅ Sentiment pipeline initialized!\")\n"
   ]
  },
  {
   "cell_type": "code",
   "execution_count": 7,
   "metadata": {},
   "outputs": [
    {
     "name": "stdout",
     "output_type": "stream",
     "text": [
      "🚀 Running inference on 100 rows...\n"
     ]
    },
    {
     "name": "stderr",
     "output_type": "stream",
     "text": [
      "🔎 Predicting:   0%|          | 0/2 [00:00<?, ?it/s]"
     ]
    },
    {
     "name": "stderr",
     "output_type": "stream",
     "text": [
      "🔎 Predicting: 100%|██████████| 2/2 [00:02<00:00,  1.05s/it]"
     ]
    },
    {
     "name": "stdout",
     "output_type": "stream",
     "text": [
      "✅ Inference completed!\n"
     ]
    },
    {
     "name": "stderr",
     "output_type": "stream",
     "text": [
      "\n"
     ]
    }
   ],
   "source": [
    "LABEL_MAPPING = {'LABEL_0': 0, 'LABEL_2': 2}  # Only map negative (0) and positive (2)\n",
    "predictions = []\n",
    "\n",
    "print(\"🚀 Running inference on 100 rows...\")\n",
    "for batch in tqdm(dataloader, desc=\"🔎 Predicting\"):\n",
    "    texts = [t for t in batch['Text'] if isinstance(t, str) and t.strip()]\n",
    "    if not texts:\n",
    "        continue  # Skip empty texts\n",
    "\n",
    "    batch_preds = sentiment_pipeline(texts, truncation=True, max_length=128)\n",
    "\n",
    "    # ✅ FILTER OUT NEUTRAL (LABEL_1) PREDICTIONS\n",
    "    batch_preds = [pred for pred in batch_preds if pred['label'] in LABEL_MAPPING]  # Keep only 0 and 2\n",
    "\n",
    "    predictions.extend(batch_preds)\n",
    "\n",
    "print(\"✅ Inference completed!\")"
   ]
  },
  {
   "cell_type": "code",
   "execution_count": 8,
   "metadata": {},
   "outputs": [
    {
     "name": "stdout",
     "output_type": "stream",
     "text": [
      "                                                 Text  Sentiment  \\\n",
      "1   nz 50 retailers dont even contactless credit c...          0   \n",
      "2   forever acknowledge channel help lessons ideas...          2   \n",
      "3   whenever go place doesnt take apple pay doesnt...          0   \n",
      "4   apple pay convenient secure easy use used kore...          2   \n",
      "6   got apple pay south africa 20202021 widely acc...          2   \n",
      "8   united states abundance retailers accept apple...          2   \n",
      "10  wow really went town psu test rack that's seri...          2   \n",
      "11  lab exciting thing seen reallly going shake qu...          2   \n",
      "12  linus engineer love lmg content across channel...          2   \n",
      "13  used time linus smartest guy room video clearl...          2   \n",
      "\n",
      "    Predicted_Sentiment  Confidence_Score  \n",
      "1                     0          0.661250  \n",
      "2                     2          0.845339  \n",
      "3                     0          0.906098  \n",
      "4                     2          0.653632  \n",
      "6                     2          0.517666  \n",
      "8                     2          0.795888  \n",
      "10                    2          0.876917  \n",
      "11                    2          0.833225  \n",
      "12                    2          0.977788  \n",
      "13                    2          0.880032  \n"
     ]
    },
    {
     "name": "stderr",
     "output_type": "stream",
     "text": [
      "C:\\Users\\hieud\\AppData\\Local\\Temp\\ipykernel_4816\\2611309690.py:7: SettingWithCopyWarning: \n",
      "A value is trying to be set on a copy of a slice from a DataFrame.\n",
      "Try using .loc[row_indexer,col_indexer] = value instead\n",
      "\n",
      "See the caveats in the documentation: https://pandas.pydata.org/pandas-docs/stable/user_guide/indexing.html#returning-a-view-versus-a-copy\n",
      "  df['Predicted_Sentiment'] = [LABEL_MAPPING.get(pred['label'], -1) for pred in predictions]\n",
      "C:\\Users\\hieud\\AppData\\Local\\Temp\\ipykernel_4816\\2611309690.py:8: SettingWithCopyWarning: \n",
      "A value is trying to be set on a copy of a slice from a DataFrame.\n",
      "Try using .loc[row_indexer,col_indexer] = value instead\n",
      "\n",
      "See the caveats in the documentation: https://pandas.pydata.org/pandas-docs/stable/user_guide/indexing.html#returning-a-view-versus-a-copy\n",
      "  df['Confidence_Score'] = [pred['score'] for pred in predictions]\n"
     ]
    }
   ],
   "source": [
    "# Ensure predictions are populated\n",
    "if not predictions:\n",
    "    raise ValueError(\"⚠️ Predictions list is empty. Ensure inference ran correctly!\")\n",
    "\n",
    "# Convert predictions to DataFrame\n",
    "df = df.iloc[:len(predictions)]  # Ensure matching sizes\n",
    "df['Predicted_Sentiment'] = [LABEL_MAPPING.get(pred['label'], -1) for pred in predictions]\n",
    "df['Confidence_Score'] = [pred['score'] for pred in predictions]\n",
    "\n",
    "# Show sample results\n",
    "print(df[['Text', 'Sentiment', 'Predicted_Sentiment', 'Confidence_Score']].head(10))\n",
    "\n",
    "\n"
   ]
  },
  {
   "cell_type": "code",
   "execution_count": null,
   "metadata": {},
   "outputs": [
    {
     "data": {
      "application/vnd.microsoft.datawrangler.viewer.v0+json": {
       "columns": [
        {
         "name": "index",
         "rawType": "int64",
         "type": "integer"
        },
        {
         "name": "Text",
         "rawType": "object",
         "type": "unknown"
        },
        {
         "name": "Sentiment",
         "rawType": "int64",
         "type": "integer"
        }
       ],
       "conversionMethod": "pd.DataFrame",
       "ref": "040fb414-2825-42f1-b6ac-f4708ee69da8",
       "rows": [
        [
         "1",
         "nz 50 retailers dont even contactless credit card machines like paywave support apple pay dont like high fees come",
         "0"
        ],
        [
         "2",
         "forever acknowledge channel help lessons ideas explanations quite helpful sit comfort monitor account growth",
         "2"
        ],
        [
         "3",
         "whenever go place doesnt take apple pay doesnt happen often drag contactless covid habits getting apple card ive gotten used apple pay get seriously annoyed store doesnt take feels like shock crazy quickly took shopping routine ive officially brainwashed apple feels inconvenient even carry physical card pocket",
         "0"
        ],
        [
         "4",
         "apple pay convenient secure easy use used korean japanese airports need physical credit cards",
         "2"
        ],
        [
         "6",
         "got apple pay south africa 20202021 widely accepted",
         "2"
        ],
        [
         "8",
         "united states abundance retailers accept apple pay still good carry physical card still large quantity places accept apple pay",
         "2"
        ],
        [
         "10",
         "wow really went town psu test rack that's serious bit kit flexible good choices surprise choma start offering bespoke rack psu makers watch videos want make sure passes exact rack really push industry well done open source test interface hardware software",
         "2"
        ],
        [
         "11",
         "lab exciting thing seen reallly going shake qualiity even basic components manufactured",
         "2"
        ],
        [
         "12",
         "linus engineer love lmg content across channels much looking forward lab content hope engineering team get camera time hosting roles",
         "2"
        ],
        [
         "13",
         "used time linus smartest guy room video clearly shows team built experts respective fields make linus look like child kudos linus lmg grown beyond imagined best",
         "2"
        ],
        [
         "14",
         "holy crap looking chroma systems back designing power supplies looks like guys went multimeter oscilloscopes terrible making accurate voltage measurements 810 bit adcs looking waveforms",
         "0"
        ],
        [
         "15",
         "love direction channel going tech channels even best trusted ones going review products based experience things measure pc really going mathematically demonstrate product quality one love",
         "2"
        ],
        [
         "16",
         "excited ltt lab lot content everyone seems saying exciting see enthusiastic new crew get things running",
         "2"
        ],
        [
         "17",
         "adore working relationship linus team 99 employees walk eggshells around boss wish could like",
         "2"
        ],
        [
         "18",
         "lmgs growth honestly something truly aspire content want watch technical depth engineering oriented sciencebased content make us consumers much much educated topics thus picking product pick best choice know exactly picked helps greatly buyers remorse",
         "2"
        ],
        [
         "19",
         "love people ltt added labs clearly knowledgeable passionate tech labs gonna killer love",
         "2"
        ],
        [
         "20",
         "linus turn key lights 180 bounce walls youll get much softer glow shadow way even lighting simple fix im sure along lines people got idea beam lights directly face",
         "2"
        ],
        [
         "21",
         "dan continues new favorite air confidence comforting presence like dan shows know things going fine",
         "2"
        ],
        [
         "22",
         "dan managing set soldering station one box needed incredibly amusing",
         "2"
        ],
        [
         "23",
         "linus gets employee's cases stuff stolen office also linus proudly talks stuff stolen work using upgraded setup linus using monitor table also linus uses monitor chair video hilarious",
         "2"
        ],
        [
         "25",
         "dan man saving day riley needs give theme like brian electrician",
         "2"
        ],
        [
         "26",
         "dan continues favourite like incredibly patient longsuffering dad gets things",
         "2"
        ],
        [
         "27",
         "dan treasure channel long lacked mr fixit type sad dan appears quite capable funny",
         "2"
        ],
        [
         "28",
         "blows mind quickly dan became rock upon things linus standslove",
         "2"
        ],
        [
         "29",
         "hey linus good trick streaming lights bounce wall much easier eyes nice softer look also indoors recommend hypercardioid mic looks like short shotgun like audiotechnica at4053b",
         "2"
        ],
        [
         "30",
         "unstoppable experiments liquid nitrogen",
         "2"
        ],
        [
         "31",
         "one best things dude never takes credit wheb achieves something always respect us audience team always polite videos congratulate achievement come everything",
         "2"
        ],
        [
         "33",
         "liquid nitrogen never ends m4tech poli",
         "2"
        ],
        [
         "34",
         "29minutes 48k views 93k likes power m4tech",
         "2"
        ],
        [
         "36",
         "epozhum safety first priority goggles",
         "2"
        ],
        [
         "37",
         "congratulations m4tech achieving 8 million subscribers",
         "2"
        ],
        [
         "42",
         "everyone saying ill throw hat well prospective college students need spend money flagship products graduate business degree using 7 year old laptop base ipad late 2020 products worked flawlessly intention replacing recommendations listed ones would never able afford even job im working well research forums see peers say best value product promise buy flagship product quickly see need",
         "2"
        ],
        [
         "43",
         "shoutout oneplus phone huawei laptop getting university feeling premium much less bonus ups ikea's articulating lamps 20 see homework incredibly well without eye strain old door refinished use desktop wired earbuds hardware store earmuffs noisecancelling headphones 2 sets hanes underwear target also lasting whole ride",
         "2"
        ],
        [
         "46",
         "necessarily need highend latest tech university used 2009 macbook pro throughout years uni iphone 6 worked fine what's important remain focused getting degree graduating",
         "2"
        ],
        [
         "47",
         "personally feel like really touch students able afford case anyone needs believe dave2d's back school video honestly best ones seen topic consider checking making purchase decision",
         "2"
        ],
        [
         "48",
         "hey everyone good take video love recommendations plan making another video maybe also include budget options best value options tell years studying college university tech needs based coursesprogramme took education engineering students require computer specs run bim software sure programmes see students place 8gb ram laptops also setup university years hope help anyone looking buy something collegeuniversity years best laptop asus x455l upgraded ssd additional ram phone vivo y69redmi 10samsung a22 4g mouse logitech g102 keyboard tecware tkl ver",
         "2"
        ],
        [
         "49",
         "used galaxy tab s7 phd lifesaver first really good reading journals note taking scribbling pdf's secondly strain eye much use computer laptop always fixed distance thirdly get premium version noteshelf free tab s7 lastly stem background use lot illustrations flow process diagrams draw easily stylus tab s7 choose tab s7 apple ipad air ease use user interface cost get stylus free tab s7 cases keyboard huge student discount",
         "2"
        ],
        [
         "51",
         "series exactly career day interesting knowledgeable people",
         "2"
        ],
        [
         "53",
         "every person wired brings show act like front cameras 5000 times",
         "0"
        ],
        [
         "55",
         "face describing hops killed smell pretty dank",
         "0"
        ],
        [
         "56",
         "seasoned craft brewery tour guide im glad ended drink like sometimes people get weirdly judgmental beer preferences others end day hundreds beer styles reason everyone find least one style actually like",
         "2"
        ],
        [
         "57",
         "guy total bro snobby wants people enjoy beer whatever way want contrast stereotypical beverage elitists",
         "2"
        ],
        [
         "58",
         "yall picking literal best professionals videos everyone knowledgeable seem passionate eager teach us",
         "2"
        ],
        [
         "59",
         "guy face made movies voice made radio great personality wanna see garrett",
         "2"
        ],
        [
         "60",
         "whenever get people young enough actually understand internet giant tech companies might broken long 90 year old senators asking tech ceos internet works nothing get done",
         "0"
        ],
        [
         "61",
         "live john's roasts att",
         "2"
        ],
        [
         "62",
         "mad respect john oliver team making us watch ads show major props",
         "2"
        ],
        [
         "63",
         "one important aspect surprised left many companies like amazon literally power internet almost 30 websites internet stored amazon servers giving even access data trends physical control internet",
         "2"
        ],
        [
         "65",
         "back 2018 john oliver episode corporate consolidation inspired much applied masters research program got program entire research thesis tech oligopolies shocking see bad really oligopolies bordered monopolies rampant research essentially focused question whether lack enforcement antitrust laws caused whole problem whether lack adequate laws core issue answer truly thoroughly enjoyed predoctoral masters thesis considering phd future lovely see john talk specifically tech sector edit wow thanks everyone great comments published yet otherwise would share lovely people looking policy qualitative researchanalyst job anyone hiring let know",
         "0"
        ],
        [
         "66",
         "john oliver deserves oscar 'can dolphins love monologue",
         "2"
        ]
       ],
       "shape": {
        "columns": 2,
        "rows": 1614070
       }
      },
      "text/html": [
       "<div>\n",
       "<style scoped>\n",
       "    .dataframe tbody tr th:only-of-type {\n",
       "        vertical-align: middle;\n",
       "    }\n",
       "\n",
       "    .dataframe tbody tr th {\n",
       "        vertical-align: top;\n",
       "    }\n",
       "\n",
       "    .dataframe thead th {\n",
       "        text-align: right;\n",
       "    }\n",
       "</style>\n",
       "<table border=\"1\" class=\"dataframe\">\n",
       "  <thead>\n",
       "    <tr style=\"text-align: right;\">\n",
       "      <th></th>\n",
       "      <th>Text</th>\n",
       "      <th>Sentiment</th>\n",
       "    </tr>\n",
       "  </thead>\n",
       "  <tbody>\n",
       "    <tr>\n",
       "      <th>1</th>\n",
       "      <td>nz 50 retailers dont even contactless credit c...</td>\n",
       "      <td>0</td>\n",
       "    </tr>\n",
       "    <tr>\n",
       "      <th>2</th>\n",
       "      <td>forever acknowledge channel help lessons ideas...</td>\n",
       "      <td>2</td>\n",
       "    </tr>\n",
       "    <tr>\n",
       "      <th>3</th>\n",
       "      <td>whenever go place doesnt take apple pay doesnt...</td>\n",
       "      <td>0</td>\n",
       "    </tr>\n",
       "    <tr>\n",
       "      <th>4</th>\n",
       "      <td>apple pay convenient secure easy use used kore...</td>\n",
       "      <td>2</td>\n",
       "    </tr>\n",
       "    <tr>\n",
       "      <th>6</th>\n",
       "      <td>got apple pay south africa 20202021 widely acc...</td>\n",
       "      <td>2</td>\n",
       "    </tr>\n",
       "    <tr>\n",
       "      <th>...</th>\n",
       "      <td>...</td>\n",
       "      <td>...</td>\n",
       "    </tr>\n",
       "    <tr>\n",
       "      <th>1618903</th>\n",
       "      <td>woke school best feeling ever</td>\n",
       "      <td>2</td>\n",
       "    </tr>\n",
       "    <tr>\n",
       "      <th>1618904</th>\n",
       "      <td>thewdbcom cool hear old walt interviews</td>\n",
       "      <td>2</td>\n",
       "    </tr>\n",
       "    <tr>\n",
       "      <th>1618905</th>\n",
       "      <td>ready mojo makeover ask details</td>\n",
       "      <td>2</td>\n",
       "    </tr>\n",
       "    <tr>\n",
       "      <th>1618906</th>\n",
       "      <td>happy 38th birthday boo alll time tupac amaru ...</td>\n",
       "      <td>2</td>\n",
       "    </tr>\n",
       "    <tr>\n",
       "      <th>1618907</th>\n",
       "      <td>happy charitytuesday</td>\n",
       "      <td>2</td>\n",
       "    </tr>\n",
       "  </tbody>\n",
       "</table>\n",
       "<p>1614070 rows × 2 columns</p>\n",
       "</div>"
      ],
      "text/plain": [
       "                                                      Text  Sentiment\n",
       "1        nz 50 retailers dont even contactless credit c...          0\n",
       "2        forever acknowledge channel help lessons ideas...          2\n",
       "3        whenever go place doesnt take apple pay doesnt...          0\n",
       "4        apple pay convenient secure easy use used kore...          2\n",
       "6        got apple pay south africa 20202021 widely acc...          2\n",
       "...                                                    ...        ...\n",
       "1618903                      woke school best feeling ever          2\n",
       "1618904            thewdbcom cool hear old walt interviews          2\n",
       "1618905                    ready mojo makeover ask details          2\n",
       "1618906  happy 38th birthday boo alll time tupac amaru ...          2\n",
       "1618907                               happy charitytuesday          2\n",
       "\n",
       "[1614070 rows x 2 columns]"
      ]
     },
     "execution_count": 11,
     "metadata": {},
     "output_type": "execute_result"
    }
   ],
   "source": [
    "#reading data again \n",
    "df = pd.read_csv(DATA_PATH)\n",
    "#drop neutral class\n",
    "df = df[df['Sentiment'] != 1]\n",
    "#saving data after removing neutral class\n",
    "df.to_csv(r'C:\\Users\\hieud\\Documents\\draft thesis\\thesis\\src\\data\\latest.csv', index=False)\n",
    "df"
   ]
  }
 ],
 "metadata": {
  "kernelspec": {
   "display_name": "thesis",
   "language": "python",
   "name": "python3"
  },
  "language_info": {
   "codemirror_mode": {
    "name": "ipython",
    "version": 3
   },
   "file_extension": ".py",
   "mimetype": "text/x-python",
   "name": "python",
   "nbconvert_exporter": "python",
   "pygments_lexer": "ipython3",
   "version": "3.12.9"
  }
 },
 "nbformat": 4,
 "nbformat_minor": 2
}
